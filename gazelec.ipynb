{
 "cells": [
  {
   "cell_type": "code",
   "execution_count": 1,
   "metadata": {},
   "outputs": [],
   "source": [
    "import pandas as pd\n"
   ]
  },
  {
   "cell_type": "code",
   "execution_count": 2,
   "metadata": {
    "pycharm": {
     "name": "#%%\n"
    }
   },
   "outputs": [],
   "source": [
    "adresse ='C:\\\\Users\\\\Administrateur\\\\PycharmProjects\\\\gazelec\\\\Donnees\\\\'\n",
    "nom ='consommation-quotidienne-brute.csv'\n",
    "lien = adresse + nom\n",
    "\n",
    "df = pd.read_csv(lien,sep=\";\")\n"
   ]
  },
  {
   "cell_type": "code",
   "execution_count": 3,
   "metadata": {
    "pycharm": {
     "name": "#%%\n"
    }
   },
   "outputs": [
    {
     "data": {
      "text/html": [
       "<div>\n",
       "<style scoped>\n",
       "    .dataframe tbody tr th:only-of-type {\n",
       "        vertical-align: middle;\n",
       "    }\n",
       "\n",
       "    .dataframe tbody tr th {\n",
       "        vertical-align: top;\n",
       "    }\n",
       "\n",
       "    .dataframe thead th {\n",
       "        text-align: right;\n",
       "    }\n",
       "</style>\n",
       "<table border=\"1\" class=\"dataframe\">\n",
       "  <thead>\n",
       "    <tr style=\"text-align: right;\">\n",
       "      <th></th>\n",
       "      <th>Date - Heure</th>\n",
       "      <th>Date</th>\n",
       "      <th>Heure</th>\n",
       "      <th>Consommation brute gaz (MW PCS 0°C) - GRTgaz</th>\n",
       "      <th>Statut - GRTgaz</th>\n",
       "      <th>Consommation brute gaz (MW PCS 0°C) - Teréga</th>\n",
       "      <th>Statut - Teréga</th>\n",
       "      <th>Consommation brute gaz totale (MW PCS 0°C)</th>\n",
       "      <th>Consommation brute électricité (MW) - RTE</th>\n",
       "      <th>Statut - RTE</th>\n",
       "      <th>Consommation brute totale (MW)</th>\n",
       "    </tr>\n",
       "  </thead>\n",
       "  <tbody>\n",
       "    <tr>\n",
       "      <th>0</th>\n",
       "      <td>2012-11-22T00:30:00+01:00</td>\n",
       "      <td>22/11/2012</td>\n",
       "      <td>00:30</td>\n",
       "      <td>NaN</td>\n",
       "      <td>NaN</td>\n",
       "      <td>NaN</td>\n",
       "      <td>NaN</td>\n",
       "      <td>NaN</td>\n",
       "      <td>61143.0</td>\n",
       "      <td>Définitif</td>\n",
       "      <td>NaN</td>\n",
       "    </tr>\n",
       "    <tr>\n",
       "      <th>1</th>\n",
       "      <td>2012-12-26T14:30:00+01:00</td>\n",
       "      <td>26/12/2012</td>\n",
       "      <td>14:30</td>\n",
       "      <td>NaN</td>\n",
       "      <td>NaN</td>\n",
       "      <td>NaN</td>\n",
       "      <td>NaN</td>\n",
       "      <td>NaN</td>\n",
       "      <td>60461.0</td>\n",
       "      <td>Définitif</td>\n",
       "      <td>NaN</td>\n",
       "    </tr>\n",
       "    <tr>\n",
       "      <th>2</th>\n",
       "      <td>2012-11-22T07:00:00+01:00</td>\n",
       "      <td>22/11/2012</td>\n",
       "      <td>07:00</td>\n",
       "      <td>93995.0</td>\n",
       "      <td>Définitif</td>\n",
       "      <td>7034.0</td>\n",
       "      <td>Définitif</td>\n",
       "      <td>101029.0</td>\n",
       "      <td>66011.0</td>\n",
       "      <td>Définitif</td>\n",
       "      <td>167040.0</td>\n",
       "    </tr>\n",
       "    <tr>\n",
       "      <th>3</th>\n",
       "      <td>2012-12-27T17:30:00+01:00</td>\n",
       "      <td>27/12/2012</td>\n",
       "      <td>17:30</td>\n",
       "      <td>NaN</td>\n",
       "      <td>NaN</td>\n",
       "      <td>NaN</td>\n",
       "      <td>NaN</td>\n",
       "      <td>NaN</td>\n",
       "      <td>63878.0</td>\n",
       "      <td>Définitif</td>\n",
       "      <td>NaN</td>\n",
       "    </tr>\n",
       "    <tr>\n",
       "      <th>4</th>\n",
       "      <td>2012-11-22T14:30:00+01:00</td>\n",
       "      <td>22/11/2012</td>\n",
       "      <td>14:30</td>\n",
       "      <td>NaN</td>\n",
       "      <td>NaN</td>\n",
       "      <td>NaN</td>\n",
       "      <td>NaN</td>\n",
       "      <td>NaN</td>\n",
       "      <td>66368.0</td>\n",
       "      <td>Définitif</td>\n",
       "      <td>NaN</td>\n",
       "    </tr>\n",
       "  </tbody>\n",
       "</table>\n",
       "</div>"
      ],
      "text/plain": [
       "                Date - Heure        Date  Heure  \\\n",
       "0  2012-11-22T00:30:00+01:00  22/11/2012  00:30   \n",
       "1  2012-12-26T14:30:00+01:00  26/12/2012  14:30   \n",
       "2  2012-11-22T07:00:00+01:00  22/11/2012  07:00   \n",
       "3  2012-12-27T17:30:00+01:00  27/12/2012  17:30   \n",
       "4  2012-11-22T14:30:00+01:00  22/11/2012  14:30   \n",
       "\n",
       "   Consommation brute gaz (MW PCS 0°C) - GRTgaz Statut - GRTgaz  \\\n",
       "0                                           NaN             NaN   \n",
       "1                                           NaN             NaN   \n",
       "2                                       93995.0       Définitif   \n",
       "3                                           NaN             NaN   \n",
       "4                                           NaN             NaN   \n",
       "\n",
       "   Consommation brute gaz (MW PCS 0°C) - Teréga Statut - Teréga  \\\n",
       "0                                           NaN             NaN   \n",
       "1                                           NaN             NaN   \n",
       "2                                        7034.0       Définitif   \n",
       "3                                           NaN             NaN   \n",
       "4                                           NaN             NaN   \n",
       "\n",
       "   Consommation brute gaz totale (MW PCS 0°C)  \\\n",
       "0                                         NaN   \n",
       "1                                         NaN   \n",
       "2                                    101029.0   \n",
       "3                                         NaN   \n",
       "4                                         NaN   \n",
       "\n",
       "   Consommation brute électricité (MW) - RTE Statut - RTE  \\\n",
       "0                                    61143.0    Définitif   \n",
       "1                                    60461.0    Définitif   \n",
       "2                                    66011.0    Définitif   \n",
       "3                                    63878.0    Définitif   \n",
       "4                                    66368.0    Définitif   \n",
       "\n",
       "   Consommation brute totale (MW)  \n",
       "0                             NaN  \n",
       "1                             NaN  \n",
       "2                        167040.0  \n",
       "3                             NaN  \n",
       "4                             NaN  "
      ]
     },
     "execution_count": 3,
     "metadata": {},
     "output_type": "execute_result"
    }
   ],
   "source": [
    "df.head()"
   ]
  },
  {
   "cell_type": "code",
   "execution_count": 4,
   "metadata": {
    "pycharm": {
     "name": "#%%\n"
    }
   },
   "outputs": [],
   "source": [
    "df['date'] = pd.to_datetime(df['Date'])"
   ]
  },
  {
   "cell_type": "code",
   "execution_count": 5,
   "metadata": {
    "pycharm": {
     "name": "#%%\n"
    }
   },
   "outputs": [],
   "source": [
    "df['horodate'] = pd.to_datetime(df['Date - Heure'])"
   ]
  },
  {
   "cell_type": "code",
   "execution_count": 6,
   "metadata": {
    "pycharm": {
     "name": "#%%\n"
    }
   },
   "outputs": [],
   "source": [
    "import matplotlib.pyplot as plt\n",
    "%matplotlib inline\n",
    "import seaborn as sns\n"
   ]
  },
  {
   "cell_type": "code",
   "execution_count": 11,
   "metadata": {
    "pycharm": {
     "name": "#%%\n"
    }
   },
   "outputs": [
    {
     "data": {
      "image/png": "[encoded data removed]",
      "text/plain": [
       "<Figure size 432x288 with 1 Axes>"
      ]
     },
     "metadata": {
      "needs_background": "light"
     },
     "output_type": "display_data"
    }
   ],
   "source": [
    "plt.scatter(x=df['horodate'],y=df['Consommation brute électricité (MW) - RTE']);\n",
    "plt.scatter(x=df['horodate'],y=df['Consommation brute gaz totale (MW PCS 0°C)']);"
   ]
  },
  {
   "cell_type": "code",
   "execution_count": 12,
   "metadata": {
    "pycharm": {
     "name": "#%%\n"
    }
   },
   "outputs": [],
   "source": [
    "graphique = df['horodate'] , df['Consommation brute électricité (MW) - RTE'], df['Consommation brute gaz totale (MW PCS 0°C)']\n"
   ]
  },
  {
   "cell_type": "code",
   "execution_count": 13,
   "metadata": {
    "pycharm": {
     "name": "#%%\n"
    }
   },
   "outputs": [
    {
     "data": {
      "text/plain": [
       "(0         2012-11-22 00:30:00+01:00\n",
       " 1         2012-12-26 14:30:00+01:00\n",
       " 2         2012-11-22 07:00:00+01:00\n",
       " 3         2012-12-27 17:30:00+01:00\n",
       " 4         2012-11-22 14:30:00+01:00\n",
       "                     ...            \n",
       " 157819    2020-07-26 15:00:00+02:00\n",
       " 157820    2020-07-26 19:00:00+02:00\n",
       " 157821    2020-07-26 20:30:00+02:00\n",
       " 157822    2020-07-27 02:00:00+02:00\n",
       " 157823    2020-07-27 04:00:00+02:00\n",
       " Name: horodate, Length: 157824, dtype: object,\n",
       " 0         61143.0\n",
       " 1         60461.0\n",
       " 2         66011.0\n",
       " 3         63878.0\n",
       " 4         66368.0\n",
       "            ...   \n",
       " 157819    40244.0\n",
       " 157820    40699.0\n",
       " 157821    41014.0\n",
       " 157822    36890.0\n",
       " 157823    33428.0\n",
       " Name: Consommation brute électricité (MW) - RTE, Length: 157824, dtype: float64,\n",
       " 0              NaN\n",
       " 1              NaN\n",
       " 2         101029.0\n",
       " 3              NaN\n",
       " 4              NaN\n",
       "             ...   \n",
       " 157819     20004.0\n",
       " 157820     24285.0\n",
       " 157821         NaN\n",
       " 157822     22028.0\n",
       " 157823     22394.0\n",
       " Name: Consommation brute gaz totale (MW PCS 0°C), Length: 157824, dtype: float64)"
      ]
     },
     "execution_count": 13,
     "metadata": {},
     "output_type": "execute_result"
    }
   ],
   "source": [
    "graphique"
   ]
  },
  {
   "cell_type": "code",
   "execution_count": null,
   "metadata": {},
   "outputs": [],
   "source": []
  }
 ],
 "metadata": {
  "kernelspec": {
   "display_name": "Python 3",
   "language": "python",
   "name": "python3"
  },
  "language_info": {
   "codemirror_mode": {
    "name": "ipython",
    "version": 3
   },
   "file_extension": ".py",
   "mimetype": "text/x-python",
   "name": "python",
   "nbconvert_exporter": "python",
   "pygments_lexer": "ipython3",
   "version": "3.8.5"
  }
 },
 "nbformat": 4,
 "nbformat_minor": 2
}
